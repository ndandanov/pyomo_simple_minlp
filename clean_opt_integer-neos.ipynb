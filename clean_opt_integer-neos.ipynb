{
 "cells": [
  {
   "cell_type": "markdown",
   "metadata": {},
   "source": [
    "# Imports"
   ]
  },
  {
   "cell_type": "code",
   "execution_count": 1,
   "metadata": {
    "ExecuteTime": {
     "end_time": "2019-07-24T20:02:31.603617Z",
     "start_time": "2019-07-24T20:02:31.481093Z"
    }
   },
   "outputs": [],
   "source": [
    "from __future__ import print_function, division\n",
    "import scipy.io as sio\n",
    "import numpy as np"
   ]
  },
  {
   "cell_type": "code",
   "execution_count": 2,
   "metadata": {
    "ExecuteTime": {
     "end_time": "2019-07-24T20:02:33.059540Z",
     "start_time": "2019-07-24T20:02:31.605445Z"
    }
   },
   "outputs": [],
   "source": [
    "\"\"\" Pyomo + Couenne based minimization (global-optimal) \"\"\"\n",
    "from pyomo.environ import *\n",
    "from pyomo.opt import SolverFactory"
   ]
  },
  {
   "cell_type": "markdown",
   "metadata": {},
   "source": [
    "# Input values"
   ]
  },
  {
   "cell_type": "code",
   "execution_count": 3,
   "metadata": {
    "ExecuteTime": {
     "end_time": "2019-07-24T20:02:33.064202Z",
     "start_time": "2019-07-24T20:02:33.061439Z"
    }
   },
   "outputs": [],
   "source": [
    "# Set the initial values:\n",
    "K = 2\n",
    "M = 3\n",
    "L = 4\n",
    "P = 100\n",
    "sigma2 = 1"
   ]
  },
  {
   "cell_type": "code",
   "execution_count": 4,
   "metadata": {
    "ExecuteTime": {
     "end_time": "2019-07-24T20:02:33.130486Z",
     "start_time": "2019-07-24T20:02:33.065896Z"
    }
   },
   "outputs": [],
   "source": [
    "p={}\n",
    "p[0,0] = 33.765777471068674\n",
    "p[0,1] = 35.5742871072786\n",
    "p[1,0] = 31.21117311348726\n",
    "p[1,1] = 29.93557001930011\n",
    "p[2,0] = 35.02304941544408\n",
    "p[2,1] = 34.49014287342129"
   ]
  },
  {
   "cell_type": "code",
   "execution_count": 5,
   "metadata": {
    "ExecuteTime": {
     "end_time": "2019-07-24T20:02:33.196964Z",
     "start_time": "2019-07-24T20:02:33.132800Z"
    }
   },
   "outputs": [],
   "source": [
    "G={}\n",
    "G[0,0] = 0.7862790964000568\n",
    "G[0,1] = 0.020164266253024834\n",
    "G[1,0] = 0.261341066254701\n",
    "G[1,1] = 0.04353507505992858\n",
    "G[2,0] = 68.7706562914202\n",
    "G[2,1] = 0.05991469368813834\n",
    "G[3,0] = 0.06185885418885737\n",
    "G[3,1] = 0.5381422638807442\n",
    "G[4,0] = 0.009355407747506612\n",
    "G[4,1] = 0.13338736820139793\n",
    "G[5,0] = 0.045406668801663455\n",
    "G[5,1] = 0.339859899084291"
   ]
  },
  {
   "cell_type": "markdown",
   "metadata": {},
   "source": [
    "# Formulate optimization model"
   ]
  },
  {
   "cell_type": "code",
   "execution_count": 6,
   "metadata": {
    "ExecuteTime": {
     "end_time": "2019-07-24T20:02:33.288072Z",
     "start_time": "2019-07-24T20:02:33.199693Z"
    }
   },
   "outputs": [],
   "source": [
    "# Solve an integer programming problem using Pyomo + COUENNE solver\n",
    "# Create a concrete model\n",
    "model = m = ConcreteModel()"
   ]
  },
  {
   "cell_type": "markdown",
   "metadata": {},
   "source": [
    "## Set parameters and ranges"
   ]
  },
  {
   "cell_type": "code",
   "execution_count": 7,
   "metadata": {
    "ExecuteTime": {
     "end_time": "2019-07-24T20:02:33.347484Z",
     "start_time": "2019-07-24T20:02:33.290686Z"
    }
   },
   "outputs": [],
   "source": [
    "# Mutable (settable) model parameters:\n",
    "m.L = Param(initialize=L,within=NonNegativeIntegers)\n",
    "m.P = Param(initialize=P,within=NonNegativeReals)\n",
    "m.K = Param(initialize=K,within=NonNegativeReals)\n",
    "m.M = Param(initialize=M,within=NonNegativeReals)\n",
    "m.sigma2 = Param(initialize=sigma2,within=NonNegativeReals)"
   ]
  },
  {
   "cell_type": "code",
   "execution_count": 8,
   "metadata": {
    "ExecuteTime": {
     "end_time": "2019-07-24T20:02:33.413977Z",
     "start_time": "2019-07-24T20:02:33.349711Z"
    }
   },
   "outputs": [],
   "source": [
    "# Model parameter ranges:\n",
    "m.k = RangeSet(0, m.K-1, within=NonNegativeIntegers)\n",
    "m.m = RangeSet(0, m.M-1, within=NonNegativeIntegers)\n",
    "m.km = RangeSet(0, (m.K*m.M)-1, within=NonNegativeIntegers)"
   ]
  },
  {
   "cell_type": "code",
   "execution_count": 9,
   "metadata": {
    "ExecuteTime": {
     "end_time": "2019-07-24T20:02:33.480833Z",
     "start_time": "2019-07-24T20:02:33.416229Z"
    }
   },
   "outputs": [],
   "source": [
    "# Multi-dimensional model parameters:\n",
    "m.p = Param(m.m,m.k,initialize=p,within=NonNegativeReals)\n",
    "m.G = Param(m.km,m.k,initialize=G,within=NonNegativeReals)"
   ]
  },
  {
   "cell_type": "markdown",
   "metadata": {},
   "source": [
    "## Set the optimization variable"
   ]
  },
  {
   "cell_type": "code",
   "execution_count": 10,
   "metadata": {
    "ExecuteTime": {
     "end_time": "2019-07-24T20:02:33.555637Z",
     "start_time": "2019-07-24T20:02:33.483087Z"
    }
   },
   "outputs": [],
   "source": [
    "# Set initial values for the multi-dimensional optimization variable \n",
    "z={}\n",
    "z[0,0] = 1\n",
    "z[0,1] = 0\n",
    "z[1,0] = 1\n",
    "z[1,1] = 0\n",
    "z[2,0] = 1\n",
    "z[2,1] = 0\n",
    "z[3,0] = 0\n",
    "z[3,1] = 1\n",
    "z[4,0] = 0\n",
    "z[4,1] = 1\n",
    "z[5,0] = 0\n",
    "z[5,1] = 1"
   ]
  },
  {
   "cell_type": "code",
   "execution_count": 11,
   "metadata": {
    "ExecuteTime": {
     "end_time": "2019-07-24T20:02:33.622391Z",
     "start_time": "2019-07-24T20:02:33.557845Z"
    }
   },
   "outputs": [],
   "source": [
    "# Define and initialize the optimization variable\n",
    "m.z = Var(m.km,m.k,initialize=z,within=NonNegativeIntegers,bounds=(0,L))"
   ]
  },
  {
   "cell_type": "markdown",
   "metadata": {},
   "source": [
    "## Formulate the objective function"
   ]
  },
  {
   "cell_type": "code",
   "execution_count": 12,
   "metadata": {
    "ExecuteTime": {
     "end_time": "2019-07-24T20:02:33.688937Z",
     "start_time": "2019-07-24T20:02:33.624943Z"
    }
   },
   "outputs": [],
   "source": [
    "def objFun(model):\n",
    "    # Initialize the objective function:\n",
    "    fun = 0\n",
    "    # Loop over all cells:\n",
    "    for k in model.k:\n",
    "        # Loop over all users:\n",
    "        for m in model.m:\n",
    "            interference = 0;\n",
    "            for l in model.k:\n",
    "                if l != k:\n",
    "                    # Inter-cell interference:\n",
    "                    interference = interference + (1-model.z[model.M*k+m,l]) * model.G[model.M*k+m,l] * model.P\n",
    "            # Useful signal:\n",
    "            useful_signal = model.z[model.M*k+m,k] * model.G[model.M*k+m,k] * model.p[m,k]\n",
    "            \n",
    "            # Add to the objective function (model.sigma2 is noise):\n",
    "            fun = fun + log(1+useful_signal/(model.sigma2+interference))/log(2);\n",
    "    return fun"
   ]
  },
  {
   "cell_type": "code",
   "execution_count": 13,
   "metadata": {
    "ExecuteTime": {
     "end_time": "2019-07-24T20:02:33.774617Z",
     "start_time": "2019-07-24T20:02:33.691269Z"
    }
   },
   "outputs": [],
   "source": [
    "m.obj = Objective(rule=objFun, sense=maximize)"
   ]
  },
  {
   "cell_type": "markdown",
   "metadata": {},
   "source": [
    "## Constraints"
   ]
  },
  {
   "cell_type": "code",
   "execution_count": 14,
   "metadata": {
    "ExecuteTime": {
     "end_time": "2019-07-24T20:02:33.830789Z",
     "start_time": "2019-07-24T20:02:33.777483Z"
    }
   },
   "outputs": [],
   "source": [
    "def ax_constraint_rule(model,i):\n",
    "    # return the expression for the constraint for i\n",
    "    return sum(m.z[km,i] for km in m.km) == m.L"
   ]
  },
  {
   "cell_type": "code",
   "execution_count": 15,
   "metadata": {
    "ExecuteTime": {
     "end_time": "2019-07-24T20:02:33.889289Z",
     "start_time": "2019-07-24T20:02:33.833738Z"
    }
   },
   "outputs": [],
   "source": [
    "m.constr_sum = Constraint(m.k,rule=ax_constraint_rule)"
   ]
  },
  {
   "cell_type": "markdown",
   "metadata": {},
   "source": [
    "# Execute"
   ]
  },
  {
   "cell_type": "markdown",
   "metadata": {},
   "source": [
    "## Print model"
   ]
  },
  {
   "cell_type": "code",
   "execution_count": 16,
   "metadata": {
    "ExecuteTime": {
     "end_time": "2019-07-24T20:02:33.968653Z",
     "start_time": "2019-07-24T20:02:33.892250Z"
    }
   },
   "outputs": [
    {
     "name": "stdout",
     "output_type": "stream",
     "text": [
      "3 Set Declarations\n",
      "    G_index : Dim=0, Dimen=2, Size=12, Domain=None, Ordered=True, Bounds=None\n",
      "        Virtual\n",
      "    p_index : Dim=0, Dimen=2, Size=6, Domain=None, Ordered=True, Bounds=None\n",
      "        Virtual\n",
      "    z_index : Dim=0, Dimen=2, Size=12, Domain=None, Ordered=True, Bounds=None\n",
      "        Virtual\n",
      "\n",
      "3 RangeSet Declarations\n",
      "    k : Dim=0, Dimen=1, Size=2, Domain=Integers, Ordered=True, Bounds=(0, 1)\n",
      "        Virtual\n",
      "    km : Dim=0, Dimen=1, Size=6, Domain=Integers, Ordered=True, Bounds=(0, 5)\n",
      "        Virtual\n",
      "    m : Dim=0, Dimen=1, Size=3, Domain=Integers, Ordered=True, Bounds=(0, 2)\n",
      "        Virtual\n",
      "\n",
      "7 Param Declarations\n",
      "    G : Size=12, Index=G_index, Domain=NonNegativeReals, Default=None, Mutable=False\n",
      "        Key    : Value\n",
      "        (0, 0) :   0.7862790964000568\n",
      "        (0, 1) : 0.020164266253024834\n",
      "        (1, 0) :    0.261341066254701\n",
      "        (1, 1) :  0.04353507505992858\n",
      "        (2, 0) :     68.7706562914202\n",
      "        (2, 1) :  0.05991469368813834\n",
      "        (3, 0) :  0.06185885418885737\n",
      "        (3, 1) :   0.5381422638807442\n",
      "        (4, 0) : 0.009355407747506612\n",
      "        (4, 1) :  0.13338736820139793\n",
      "        (5, 0) : 0.045406668801663455\n",
      "        (5, 1) :    0.339859899084291\n",
      "    K : Size=1, Index=None, Domain=NonNegativeReals, Default=None, Mutable=False\n",
      "        Key  : Value\n",
      "        None :     2\n",
      "    L : Size=1, Index=None, Domain=NonNegativeIntegers, Default=None, Mutable=False\n",
      "        Key  : Value\n",
      "        None :     4\n",
      "    M : Size=1, Index=None, Domain=NonNegativeReals, Default=None, Mutable=False\n",
      "        Key  : Value\n",
      "        None :     3\n",
      "    P : Size=1, Index=None, Domain=NonNegativeReals, Default=None, Mutable=False\n",
      "        Key  : Value\n",
      "        None :   100\n",
      "    p : Size=6, Index=p_index, Domain=NonNegativeReals, Default=None, Mutable=False\n",
      "        Key    : Value\n",
      "        (0, 0) : 33.765777471068674\n",
      "        (0, 1) :   35.5742871072786\n",
      "        (1, 0) :  31.21117311348726\n",
      "        (1, 1) :  29.93557001930011\n",
      "        (2, 0) :  35.02304941544408\n",
      "        (2, 1) :  34.49014287342129\n",
      "    sigma2 : Size=1, Index=None, Domain=NonNegativeReals, Default=None, Mutable=False\n",
      "        Key  : Value\n",
      "        None :     1\n",
      "\n",
      "1 Var Declarations\n",
      "    z : Size=12, Index=z_index\n",
      "        Key    : Lower : Value : Upper : Fixed : Stale : Domain\n",
      "        (0, 0) :     0 :     1 :     4 : False : False : NonNegativeIntegers\n",
      "        (0, 1) :     0 :     0 :     4 : False : False : NonNegativeIntegers\n",
      "        (1, 0) :     0 :     1 :     4 : False : False : NonNegativeIntegers\n",
      "        (1, 1) :     0 :     0 :     4 : False : False : NonNegativeIntegers\n",
      "        (2, 0) :     0 :     1 :     4 : False : False : NonNegativeIntegers\n",
      "        (2, 1) :     0 :     0 :     4 : False : False : NonNegativeIntegers\n",
      "        (3, 0) :     0 :     0 :     4 : False : False : NonNegativeIntegers\n",
      "        (3, 1) :     0 :     1 :     4 : False : False : NonNegativeIntegers\n",
      "        (4, 0) :     0 :     0 :     4 : False : False : NonNegativeIntegers\n",
      "        (4, 1) :     0 :     1 :     4 : False : False : NonNegativeIntegers\n",
      "        (5, 0) :     0 :     0 :     4 : False : False : NonNegativeIntegers\n",
      "        (5, 1) :     0 :     1 :     4 : False : False : NonNegativeIntegers\n",
      "\n",
      "1 Objective Declarations\n",
      "    obj : Size=1, Index=None, Active=True\n",
      "        Key  : Active : Sense    : Expression\n",
      "        None :   True : maximize : log(1 + 26.54932499919727*z[0,0]*(1/(1 + (1 - z[0,1])*0.020164266253024834*100)))*1.4426950408889634 + log(1 + 8.156761260538817*z[1,0]*(1/(1 + (1 - z[1,1])*0.04353507505992858*100)))*1.4426950408889634 + log(1 + 2408.55809362693*z[2,0]*(1/(1 + (1 - z[2,1])*0.05991469368813834*100)))*1.4426950408889634 + log(1 + 19.144027399854476*z[3,1]*(1/(1 + (1 - z[3,0])*0.06185885418885737*100)))*1.4426950408889634 + log(1 + 3.9930269004831125*z[4,1]*(1/(1 + (1 - z[4,0])*0.009355407747506612*100)))*1.4426950408889634 + log(1 + 11.721816476363738*z[5,1]*(1/(1 + (1 - z[5,0])*0.045406668801663455*100)))*1.4426950408889634\n",
      "\n",
      "1 Constraint Declarations\n",
      "    constr_sum : Size=2, Index=k, Active=True\n",
      "        Key : Lower : Body                                                : Upper : Active\n",
      "          0 :   4.0 : z[0,0] + z[1,0] + z[2,0] + z[3,0] + z[4,0] + z[5,0] :   4.0 :   True\n",
      "          1 :   4.0 : z[0,1] + z[1,1] + z[2,1] + z[3,1] + z[4,1] + z[5,1] :   4.0 :   True\n",
      "\n",
      "16 Declarations: L P K M sigma2 k m km p_index p G_index G z_index z obj constr_sum\n"
     ]
    }
   ],
   "source": [
    "m.pprint()"
   ]
  },
  {
   "cell_type": "markdown",
   "metadata": {},
   "source": [
    "## Initialize the Couenne solver"
   ]
  },
  {
   "cell_type": "code",
   "execution_count": 17,
   "metadata": {
    "ExecuteTime": {
     "end_time": "2019-07-24T20:02:35.626614Z",
     "start_time": "2019-07-24T20:02:33.970737Z"
    }
   },
   "outputs": [],
   "source": [
    "solver_manager = SolverManagerFactory('neos')"
   ]
  },
  {
   "cell_type": "markdown",
   "metadata": {},
   "source": [
    "## Solve the problem"
   ]
  },
  {
   "cell_type": "code",
   "execution_count": 18,
   "metadata": {
    "ExecuteTime": {
     "end_time": "2019-07-24T20:02:59.605076Z",
     "start_time": "2019-07-24T20:02:35.629686Z"
    }
   },
   "outputs": [],
   "source": [
    "results = solver_manager.solve(model, opt='couenne', keepfiles=True, tee=True)"
   ]
  },
  {
   "cell_type": "markdown",
   "metadata": {},
   "source": [
    "## Save the model .nl file for reference"
   ]
  },
  {
   "cell_type": "code",
   "execution_count": 19,
   "metadata": {
    "ExecuteTime": {
     "end_time": "2019-07-24T20:02:59.626440Z",
     "start_time": "2019-07-24T20:02:59.609022Z"
    }
   },
   "outputs": [
    {
     "data": {
      "text/plain": [
       "('mymodel-couenne-integer-neos.nl', 140408639815408)"
      ]
     },
     "execution_count": 19,
     "metadata": {},
     "output_type": "execute_result"
    }
   ],
   "source": [
    "m.write('mymodel-couenne-integer-neos.nl')"
   ]
  },
  {
   "cell_type": "markdown",
   "metadata": {},
   "source": [
    "# Results"
   ]
  },
  {
   "cell_type": "code",
   "execution_count": 20,
   "metadata": {
    "ExecuteTime": {
     "end_time": "2019-07-24T20:02:59.680145Z",
     "start_time": "2019-07-24T20:02:59.628324Z"
    }
   },
   "outputs": [
    {
     "data": {
      "text/plain": [
       "{'Problem': [{'Lower bound': -inf, 'Upper bound': inf, 'Number of objectives': 1, 'Number of constraints': 0, 'Number of variables': 12, 'Sense': 'unknown'}], 'Solver': [{'Status': 'ok', 'Message': 'couenne\\\\x3a Optimal', 'Termination condition': 'optimal', 'Id': 3}], 'Solution': [OrderedDict([('number of solutions', 0), ('number of solutions displayed', 0)])]}"
      ]
     },
     "execution_count": 20,
     "metadata": {},
     "output_type": "execute_result"
    }
   ],
   "source": [
    "results"
   ]
  },
  {
   "cell_type": "code",
   "execution_count": 21,
   "metadata": {
    "ExecuteTime": {
     "end_time": "2019-07-24T20:02:59.741309Z",
     "start_time": "2019-07-24T20:02:59.683998Z"
    }
   },
   "outputs": [
    {
     "name": "stdout",
     "output_type": "stream",
     "text": [
      "Model unknown\n",
      "\n",
      "  Variables:\n",
      "    z : Size=12, Index=z_index\n",
      "        Key    : Lower : Value              : Upper : Fixed : Stale : Domain\n",
      "        (0, 0) :     0 :                1.0 :     4 : False : False : NonNegativeIntegers\n",
      "        (0, 1) :     0 :                0.0 :     4 : False : False : NonNegativeIntegers\n",
      "        (1, 0) :     0 :                0.0 :     4 : False : False : NonNegativeIntegers\n",
      "        (1, 1) :     0 :                0.0 :     4 : False : False : NonNegativeIntegers\n",
      "        (2, 0) :     0 :                1.0 :     4 : False : False : NonNegativeIntegers\n",
      "        (2, 1) :     0 :                1.0 :     4 : False : False : NonNegativeIntegers\n",
      "        (3, 0) :     0 :                1.0 :     4 : False : False : NonNegativeIntegers\n",
      "        (3, 1) :     0 : 0.9999999999999997 :     4 : False : False : NonNegativeIntegers\n",
      "        (4, 0) :     0 :                0.0 :     4 : False : False : NonNegativeIntegers\n",
      "        (4, 1) :     0 :                1.0 :     4 : False : False : NonNegativeIntegers\n",
      "        (5, 0) :     0 :                1.0 :     4 : False : False : NonNegativeIntegers\n",
      "        (5, 1) :     0 : 1.0000000000000004 :     4 : False : False : NonNegativeIntegers\n",
      "\n",
      "  Objectives:\n",
      "    obj : Size=1, Index=None, Active=True\n",
      "        Key  : Active : Value\n",
      "        None :   True : 24.144027344300497\n",
      "\n",
      "  Constraints:\n",
      "    constr_sum : Size=2\n",
      "        Key : Lower : Body : Upper\n",
      "          0 :   4.0 :  4.0 :   4.0\n",
      "          1 :   4.0 :  4.0 :   4.0\n"
     ]
    }
   ],
   "source": [
    "m.display()"
   ]
  },
  {
   "cell_type": "code",
   "execution_count": 22,
   "metadata": {
    "ExecuteTime": {
     "end_time": "2019-07-24T20:02:59.796854Z",
     "start_time": "2019-07-24T20:02:59.744084Z"
    }
   },
   "outputs": [
    {
     "name": "stdout",
     "output_type": "stream",
     "text": [
      "24.144027344300497\n"
     ]
    }
   ],
   "source": [
    "print(value(m.obj.expr))"
   ]
  }
 ],
 "metadata": {
  "kernelspec": {
   "display_name": "Pyomo",
   "language": "python",
   "name": "pyomo"
  },
  "language_info": {
   "codemirror_mode": {
    "name": "ipython",
    "version": 3
   },
   "file_extension": ".py",
   "mimetype": "text/x-python",
   "name": "python",
   "nbconvert_exporter": "python",
   "pygments_lexer": "ipython3",
   "version": "3.7.3"
  },
  "toc": {
   "base_numbering": 1,
   "nav_menu": {},
   "number_sections": true,
   "sideBar": true,
   "skip_h1_title": false,
   "title_cell": "Table of Contents",
   "title_sidebar": "Contents",
   "toc_cell": false,
   "toc_position": {},
   "toc_section_display": true,
   "toc_window_display": true
  },
  "varInspector": {
   "cols": {
    "lenName": 16,
    "lenType": 16,
    "lenVar": 40
   },
   "kernels_config": {
    "python": {
     "delete_cmd_postfix": "",
     "delete_cmd_prefix": "del ",
     "library": "var_list.py",
     "varRefreshCmd": "print(var_dic_list())"
    },
    "r": {
     "delete_cmd_postfix": ") ",
     "delete_cmd_prefix": "rm(",
     "library": "var_list.r",
     "varRefreshCmd": "cat(var_dic_list()) "
    }
   },
   "types_to_exclude": [
    "module",
    "function",
    "builtin_function_or_method",
    "instance",
    "_Feature"
   ],
   "window_display": false
  }
 },
 "nbformat": 4,
 "nbformat_minor": 2
}
